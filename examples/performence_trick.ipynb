{
 "cells": [
  {
   "cell_type": "code",
   "execution_count": 1,
   "id": "12681fbb",
   "metadata": {},
   "outputs": [],
   "source": [
    "from phomo import Master, Pool, Mosaic\n",
    "\n",
    "from PIL import Image\n",
    "from random import sample\n",
    "from pathlib import Path"
   ]
  },
  {
   "cell_type": "markdown",
   "id": "6d6ea1ca",
   "metadata": {},
   "source": [
    "# Face dataset from:\n",
    "\n",
    "https://susanqq.github.io/UTKFace/\n",
    "\n",
    "dl link: https://drive.google.com/drive/folders/0BxYys69jI14kU0I1YUQyY1ZDRUE?resourcekey=0-01Pth1hq20K4kuGVkp3oBw\n",
    "\n",
    "Download and extract to `faces/` folder.\n",
    "\n",
    "Dataset contains 9780 200x200 images of faces."
   ]
  },
  {
   "cell_type": "markdown",
   "id": "204a56d3",
   "metadata": {},
   "source": [
    "# Performence trick\n",
    "\n",
    "This notebook shows a trick to compute the distance matrix on a smaller master/pool set but then build the mosaic image with higher resolution images."
   ]
  },
  {
   "cell_type": "markdown",
   "id": "3175cead",
   "metadata": {},
   "source": [
    "### Pools"
   ]
  },
  {
   "cell_type": "code",
   "execution_count": null,
   "id": "0f7bcc0e",
   "metadata": {},
   "outputs": [
    {
     "data": {
      "application/json": {
       "ascii": false,
       "bar_format": null,
       "colour": null,
       "elapsed": 0.017024755477905273,
       "initial": 0,
       "n": 0,
       "ncols": null,
       "nrows": 30,
       "postfix": null,
       "prefix": "Loading tiles",
       "rate": null,
       "total": 23708,
       "unit": "it",
       "unit_divisor": 1000,
       "unit_scale": false
      },
      "application/vnd.jupyter.widget-view+json": {
       "model_id": "7487ddeb27dd44178f3fa3797c961f2c",
       "version_major": 2,
       "version_minor": 0
      },
      "text/plain": [
       "Loading tiles:   0%|          | 0/23708 [00:00<?, ?it/s]"
      ]
     },
     "metadata": {},
     "output_type": "display_data"
    }
   ],
   "source": [
    "small_pool = Pool.from_dir(\"faces/\", crop_ratio=1, tile_size=(20, 20))\n",
    "large_pool = Pool.from_dir(\"faces/\", crop_ratio=1, tile_size=(200, 200))"
   ]
  },
  {
   "cell_type": "markdown",
   "id": "7aa92bce",
   "metadata": {},
   "source": [
    "### Master images\n",
    "\n",
    "A random face from the dataset"
   ]
  },
  {
   "cell_type": "code",
   "execution_count": null,
   "id": "d82bfafc",
   "metadata": {},
   "outputs": [],
   "source": [
    "master_file = sample(list(Path(\"faces\").glob('*')), 1)[0]"
   ]
  },
  {
   "cell_type": "code",
   "execution_count": null,
   "id": "d64393f3",
   "metadata": {},
   "outputs": [],
   "source": [
    "small_master = Master.from_file(master_file, img_size=(400, 400))\n",
    "large_master = Master.from_file(master_file, img_size=(4000, 4000))"
   ]
  },
  {
   "cell_type": "code",
   "execution_count": null,
   "id": "d76f3e6e",
   "metadata": {},
   "outputs": [],
   "source": [
    "small_master.img"
   ]
  },
  {
   "cell_type": "markdown",
   "id": "7afd767e",
   "metadata": {},
   "source": [
    "### Mosaics"
   ]
  },
  {
   "cell_type": "code",
   "execution_count": null,
   "id": "03a74f71",
   "metadata": {},
   "outputs": [],
   "source": [
    "small_mosaic = Mosaic(small_master, small_pool)\n",
    "large_mosaic = Mosaic(large_master, large_pool)"
   ]
  },
  {
   "cell_type": "markdown",
   "id": "85367121",
   "metadata": {},
   "source": [
    "Store the small image distance matrix."
   ]
  },
  {
   "cell_type": "code",
   "execution_count": null,
   "id": "7b99d230",
   "metadata": {},
   "outputs": [],
   "source": [
    "d_matrix = small_mosaic.compute_d_matrix()"
   ]
  },
  {
   "cell_type": "code",
   "execution_count": null,
   "id": "5ba9fbca",
   "metadata": {},
   "outputs": [],
   "source": [
    "small_mosaic_img = small_mosaic.build(d_matrix=d_matrix)\n",
    "small_mosaic_img"
   ]
  },
  {
   "cell_type": "code",
   "execution_count": null,
   "id": "b4d66ac9",
   "metadata": {},
   "outputs": [],
   "source": [
    "small_mosaic_img.size"
   ]
  },
  {
   "cell_type": "markdown",
   "id": "3259cd93",
   "metadata": {},
   "source": [
    "Avoid computing the distance matrix with high resolution images, take the matrix from the small images."
   ]
  },
  {
   "cell_type": "code",
   "execution_count": null,
   "id": "e253c554",
   "metadata": {},
   "outputs": [],
   "source": [
    "large_mosaic_img = large_mosaic.build(d_matrix=d_matrix)"
   ]
  },
  {
   "cell_type": "code",
   "execution_count": null,
   "id": "cfe245ec",
   "metadata": {},
   "outputs": [],
   "source": [
    "large_mosaic_img"
   ]
  }
 ],
 "metadata": {
  "kernelspec": {
   "display_name": "Python 3 (ipykernel)",
   "language": "python",
   "name": "python3"
  },
  "language_info": {
   "codemirror_mode": {
    "name": "ipython",
    "version": 3
   },
   "file_extension": ".py",
   "mimetype": "text/x-python",
   "name": "python",
   "nbconvert_exporter": "python",
   "pygments_lexer": "ipython3",
   "version": "3.10.8"
  }
 },
 "nbformat": 4,
 "nbformat_minor": 5
}
